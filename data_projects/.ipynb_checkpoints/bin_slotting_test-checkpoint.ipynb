{
 "cells": [
  {
   "cell_type": "code",
   "execution_count": 1,
   "metadata": {
    "pycharm": {
     "name": "#%%\n"
    }
   },
   "outputs": [],
   "source": [
    "import itertools\n",
    "import math as math\n",
    "import numpy as np\n",
    "import pyvista as pv\n",
    "import time"
   ]
  },
  {
   "cell_type": "markdown",
   "metadata": {
    "pycharm": {
     "name": "#%% md\n"
    }
   },
   "source": [
    "On a 96\" beam, I can have the following location bin sizes:"
   ]
  },
  {
   "cell_type": "code",
   "execution_count": 2,
   "metadata": {
    "pycharm": {
     "name": "#%%\n"
    }
   },
   "outputs": [],
   "source": [
    "# Create storage bin sizes\n",
    "storage_bins = {\n",
    "    'xs': [21, 8, 10],\n",
    "    's': [21, 9.6, 10],\n",
    "    'm': [21, 12, 12],\n",
    "    'l': [21, 16, 14],\n",
    "    'xl': [21, 24, 14]\n",
    "}"
   ]
  },
  {
   "cell_type": "markdown",
   "metadata": {
    "pycharm": {
     "name": "#%% md\n"
    }
   },
   "source": [
    "Below are my products that I would like to try. Currently orientated: L x W x H."
   ]
  },
  {
   "cell_type": "code",
   "execution_count": 3,
   "metadata": {
    "pycharm": {
     "name": "#%%\n"
    }
   },
   "outputs": [],
   "source": [
    "# List Product dimensions\n",
    "\n",
    "products = {\n",
    "    'airpods': [3.625, 3.625, 1.25],\n",
    "    'magic mouse': [4.875, 2.75, 1.5],\n",
    "    'apple pencil': [8.625, 2, 0.875],\n",
    "    'usb-c cable': [7.25, 3.625, 0.875],\n",
    "    'iphone 11': [6.375, 3.5, 1.875],\n",
    "    'apple tv 4k': [6.25, 5.125, 2.5],\n",
    "    'magic keyboard': [17.375, 4.875, 0.75],\n",
    "    'macbook pro': [12.75, 9.125, 2.125],\n",
    "    'ipad pro': [12.375, 8.875, 1.875],\n",
    "    'mac mini': [8.125, 8, 3.125]\n",
    "}"
   ]
  },
  {
   "cell_type": "markdown",
   "metadata": {
    "pycharm": {
     "name": "#%% md\n"
    }
   },
   "source": [
    "I choose a small bin size here, but the logic needs to start with: If product cube <= bin_cube, start testing that bin_cube. If product_cube exceeds first bin_cube, try next larger size of box."
   ]
  },
  {
   "cell_type": "markdown",
   "metadata": {},
   "source": [
    "If you don't want to make a 3d render or you don't care about having a defined \"lwh\" cardinality, the commented out permutation calculation is a shorter piece of code"
   ]
  },
  {
   "cell_type": "code",
   "execution_count": 4,
   "metadata": {
    "pycharm": {
     "name": "#%%\n"
    }
   },
   "outputs": [
    {
     "name": "stdout",
     "output_type": "stream",
     "text": [
      "(256, [8.625, 2, 0.875], [2, 8, 16], 'lwh')\n"
     ]
    }
   ],
   "source": [
    "\n",
    "# def compute_max(product, bin_size):\n",
    "#     optimal_quantity = 0\n",
    "#     optimal_orientation = None\n",
    "#     orientations = list(itertools.permutations(product))\n",
    "\n",
    "#     for orientation in orientations:\n",
    "#         a = math.floor(bin_size[0] / orientation[0])\n",
    "#         b = math.floor(bin_size[1] / orientation[1])\n",
    "#         c = math.floor(bin_size[2] / orientation[2])\n",
    "#         total = a * b * c\n",
    "#         if total > optimal_quantity:\n",
    "#             optimal_quantity = total\n",
    "#             optimal_orientation = orientation\n",
    "\n",
    "#     return optimal_quantity, optimal_orientation\n",
    "\n",
    "\n",
    "# count, orientation = compute_max(products[\"airpods\"], storage_bins['s'])\n",
    "\n",
    "def compute_max(product, bin_size):\n",
    "    optimal_quantity = 0\n",
    "    optimal_orientation = None\n",
    "    orientations = [\n",
    "        [product[0], product[1], product[2]],\n",
    "        [product[0], product[2], product[1]],\n",
    "        [product[1], product[0], product[2]],\n",
    "        [product[1], product[2], product[0]],\n",
    "        [product[2], product[0], product[1]],\n",
    "        [product[2], product[1], product[0]],\n",
    "    ]\n",
    "    txt_orientations = [\"lwh\", \"lhw\", \"whl\", \"wlh\", \"hlw\", \"hwl\"]\n",
    "\n",
    "    for i, orientation in enumerate(orientations):\n",
    "        a = math.floor(bin_size[0] / orientation[0])\n",
    "        b = math.floor(bin_size[1] / orientation[1])\n",
    "        c = math.floor(bin_size[2] / orientation[2])\n",
    "        total = a * b * c\n",
    "        if total > optimal_quantity:\n",
    "            optimal_quantity = total\n",
    "            optimal_orientation = orientation\n",
    "            cardinality = txt_orientations[i]\n",
    "            counts = [a, b, c]\n",
    "            \n",
    "    return optimal_quantity, optimal_orientation, counts, cardinality\n",
    "\n",
    "\n",
    "count, orientation, counts, cardinality = compute_max(products[\"apple pencil\"], storage_bins['s'])\n",
    "print(compute_max(products[\"apple pencil\"], storage_bins['l']))"
   ]
  },
  {
   "cell_type": "markdown",
   "metadata": {},
   "source": [
    "Rendered:"
   ]
  },
  {
   "cell_type": "code",
   "execution_count": 11,
   "metadata": {
    "pycharm": {
     "is_executing": true,
     "name": "#%%\n"
    },
    "scrolled": true
   },
   "outputs": [
    {
     "name": "stdout",
     "output_type": "stream",
     "text": [
      "(54, [17.375, 4.875, 0.75], [1, 3, 18], 'lwh')\n"
     ]
    },
    {
     "data": {
      "application/vnd.jupyter.widget-view+json": {
       "model_id": "65700aae19de404bbe89635185057a49",
       "version_major": 2,
       "version_minor": 0
      },
      "text/plain": [
       "Renderer(camera=PerspectiveCamera(aspect=1.5, children=(DirectionalLight(color='#fefefe', intensity=0.25, posi…"
      ]
     },
     "metadata": {},
     "output_type": "display_data"
    },
    {
     "name": "stdout",
     "output_type": "stream",
     "text": [
      "-------- 1.9099576473236084s to render 55 objects --------\n"
     ]
    }
   ],
   "source": [
    "\n",
    "\n",
    "def render_bin(bin_size, product):\n",
    "    storage_bin = storage_bins[bin_size]\n",
    "    get_product = products[product]\n",
    "    \n",
    "    count, item, counts, cardinality = compute_max(get_product, storage_bin)\n",
    "    \n",
    "    print(compute_max(get_product, storage_bin))\n",
    "        \n",
    "    bin_l = storage_bin[0]\n",
    "    bin_w = storage_bin[1]\n",
    "    bin_h = storage_bin[2]\n",
    "    \n",
    "    plotter = pv.Plotter(window_size=(600, 400))\n",
    "    plotter.background_color = 'w'\n",
    "    plotter.enable_anti_aliasing()\n",
    "    plotter.add_mesh(pv.Cube([0,0,0], bin_l, bin_w, bin_h), opacity=.20, color='blue', show_edges=True)\n",
    "        \n",
    "    start_time = time.time()\n",
    "    for i in range(counts[0]):\n",
    "        for j in range(counts[1]):\n",
    "            for k in range(counts[2]):\n",
    "                plotter.add_mesh(\n",
    "                    pv.Cube([\n",
    "                        ((bin_l/2)-item[0]/2) - (item[0] * i),\n",
    "                        ((bin_w/2)-item[1]/2) - (item[1] * j),\n",
    "                        ((bin_h/2)-item[2]/2) - (item[2] * k)\n",
    "                    ],\n",
    "                        item[0],\n",
    "                        item[1],\n",
    "                        item[2]),\n",
    "                    opacity=.30,\n",
    "                    show_edges=True\n",
    "                )\n",
    "\n",
    "#     plotter.show(jupyter_backend='ipygany')\n",
    "    plotter.show(jupyter_backend='pythreejs')\n",
    "    print('-------- {0}s to render {1} objects --------'.format(time.time() - start_time, count + 1))\n",
    "\n",
    "render_bin('s', 'apple pencil')"
   ]
  },
  {
   "cell_type": "markdown",
   "metadata": {},
   "source": [
    "Now that I know how many apple pencils would fit in a bin, I can start filling ups multiple bins until i run out of daily inventory. For now, let's just assume that all products have a daily usage of 1,000. If the amount of bins exceeds 5, I need this logic to cut and start everything over but with a larger bin size. So, if i exceed 5 bin locations with apple pencils in order to find a home for all 1,000, i need to bump up to the medium size box, figure out best orientation for product in the medium size box, and then fill those medium boxes. If box count does not exceed 5, I would like to return a table with the product, what box size it was assigned, and how many boxes it ended up using."
   ]
  },
  {
   "cell_type": "code",
   "execution_count": 13,
   "metadata": {
    "pycharm": {
     "is_executing": true,
     "name": "#%%\n"
    }
   },
   "outputs": [],
   "source": [
    "def get_bin_size(product, demand, bin_limit): \n",
    "    last = None\n",
    "    for k, v in storage_bins.items():\n",
    "        count, item, counts, cardinality = compute_max(products[product], v)\n",
    "        if (count * bin_limit) < demand:\n",
    "            bin_count = demand/count\n",
    "            last = k\n",
    "            continue;\n",
    "        else:\n",
    "            bin_count = demand/count\n",
    "#             print('{0} items per bin can maximally fit in {1} {2} bins and fill {3}/{4} demand, with {5} bins'.format(count, bin_limit, k, count * bin_limit, demand, demand / count))\n",
    "            return k, bin_count\n",
    "    return last, bin_count\n",
    "        \n",
    "    get_bin_size(\"apple pencil\", 1000, 5)"
   ]
  },
  {
   "cell_type": "code",
   "execution_count": 12,
   "metadata": {
    "pycharm": {
     "is_executing": true
    },
    "scrolled": true
   },
   "outputs": [
    {
     "name": "stdout",
     "output_type": "stream",
     "text": [
      "{\n",
      "    \"airpods\": [\n",
      "        \"m\",\n",
      "        3.4722222222222223\n",
      "    ],\n",
      "    \"apple pencil\": [\n",
      "        \"s\",\n",
      "        4.166666666666667\n",
      "    ],\n",
      "    \"apple tv 4k\": [\n",
      "        \"xl\",\n",
      "        6.944444444444445\n",
      "    ],\n",
      "    \"ipad pro\": [\n",
      "        \"xl\",\n",
      "        20.833333333333332\n",
      "    ],\n",
      "    \"iphone 11\": [\n",
      "        \"xl\",\n",
      "        3.4722222222222223\n",
      "    ],\n",
      "    \"mac mini\": [\n",
      "        \"xl\",\n",
      "        20.833333333333332\n",
      "    ],\n",
      "    \"macbook pro\": [\n",
      "        \"xl\",\n",
      "        22.727272727272727\n",
      "    ],\n",
      "    \"magic keyboard\": [\n",
      "        \"xl\",\n",
      "        6.944444444444445\n",
      "    ],\n",
      "    \"magic mouse\": [\n",
      "        \"m\",\n",
      "        3.90625\n",
      "    ],\n",
      "    \"usb-c cable\": [\n",
      "        \"l\",\n",
      "        3.125\n",
      "    ]\n",
      "}\n"
     ]
    }
   ],
   "source": [
    "import json\n",
    "\n",
    "optimal_products = {}\n",
    "demand = 500\n",
    "bin_limit = 5\n",
    "\n",
    "for product in products:\n",
    "    optimal_products[product] = get_bin_size(product, demand, bin_limit)\n",
    "    \n",
    "print(json.dumps(optimal_products, indent=4, sort_keys=True))\n"
   ]
  },
  {
   "cell_type": "code",
   "execution_count": null,
   "metadata": {},
   "outputs": [],
   "source": []
  }
 ],
 "metadata": {
  "kernelspec": {
   "display_name": "Python 3 (ipykernel)",
   "language": "python",
   "name": "python3"
  },
  "language_info": {
   "codemirror_mode": {
    "name": "ipython",
    "version": 3
   },
   "file_extension": ".py",
   "mimetype": "text/x-python",
   "name": "python",
   "nbconvert_exporter": "python",
   "pygments_lexer": "ipython3",
   "version": "3.9.9"
  }
 },
 "nbformat": 4,
 "nbformat_minor": 1
}
